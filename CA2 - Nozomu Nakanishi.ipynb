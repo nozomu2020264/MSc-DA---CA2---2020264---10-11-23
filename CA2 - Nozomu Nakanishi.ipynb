{
 "cells": [
  {
   "cell_type": "markdown",
   "id": "300d5cdb",
   "metadata": {},
   "source": [
    "Studend: Nozomu Nakanishi\n",
    "Student Id: 2020264\n",
    "Github:\n",
    "CA 2 - Big Data / Advanced Data Analytics - 17/11/23\n",
    "\n",
    "- Importing the necessary libraries for the practical part."
   ]
  },
  {
   "cell_type": "code",
   "execution_count": 60,
   "id": "731f2581",
   "metadata": {},
   "outputs": [],
   "source": [
    "from pyspark.sql import SparkSession\n",
    "import sparknlp\n",
    "from pyspark.sql.types import StructType, StructField, StringType, IntegerType, TimestampType\n",
    "from pyspark.sql.functions import unix_timestamp, from_unixtime\n",
    "from pyspark.sql.functions import to_date, to_timestamp\n",
    "from pyspark.sql import functions as F\n",
    "from pyspark.sql.functions import regexp_replace\n",
    "from pyspark.sql.functions import lower\n",
    "from pyspark.sql.functions import col, explode, expr, lit\n",
    "from pyspark import StorageLevel"
   ]
  },
  {
   "cell_type": "markdown",
   "id": "2d7f106f",
   "metadata": {},
   "source": [
    "### Initializing Spark sessiong and Importing the dataset ProjectTweets."
   ]
  },
  {
   "cell_type": "code",
   "execution_count": 1,
   "id": "ceb88934",
   "metadata": {},
   "outputs": [],
   "source": [
    "# Initialize Spark Session with recommended settings for Spark NLP\n",
    "spark = SparkSession.builder \\\n",
    "    .appName(\"ProjectTweets\") \\\n",
    "    .master(\"local[*]\") \\\n",
    "    .config(\"spark.jars.packages\", \"com.johnsnowlabs.nlp:spark-nlp_2.12:5.1.4\") \\\n",
    "    .config(\"spark.serializer\", \"org.apache.spark.serializer.KryoSerializer\") \\\n",
    "    .config(\"spark.kryo.registrator\", \"com.johnsnowlabs.nlp.serialization.SparkNLPKryoRegistrator\") \\\n",
    "    .getOrCreate()"
   ]
  },
  {
   "cell_type": "code",
   "execution_count": 2,
   "id": "ffedd168",
   "metadata": {},
   "outputs": [],
   "source": [
    "# Defines the schema of the CSV file (ProjectTweets.csv) and adjust the field names and types for the dataframe.\n",
    "tweetSchema = StructType([\n",
    "    StructField(\"sequence\", IntegerType(), True),\n",
    "    StructField(\"ids\", StringType(), True),\n",
    "    StructField(\"date\", StringType(), True),\n",
    "    StructField(\"flag\", StringType(), True),\n",
    "    StructField(\"user\", StringType(), True),\n",
    "    StructField(\"text\", StringType(), True),\n",
    "])\n",
    "\n",
    "# Imports the dataset in csv format.\n",
    "df = spark.read.csv(\"file:///home/hduser/Desktop/CA2/ProjectTweets.csv\", header=False, schema=tweetSchema)"
   ]
  },
  {
   "cell_type": "code",
   "execution_count": 3,
   "id": "8667a3b6",
   "metadata": {
    "scrolled": true
   },
   "outputs": [
    {
     "name": "stderr",
     "output_type": "stream",
     "text": [
      "                                                                                \r"
     ]
    },
    {
     "name": "stdout",
     "output_type": "stream",
     "text": [
      "+--------+----------+--------------------+--------+---------------+--------------------+\n",
      "|sequence|       ids|                date|    flag|           user|                text|\n",
      "+--------+----------+--------------------+--------+---------------+--------------------+\n",
      "|       0|1467810369|Mon Apr 06 22:19:...|NO_QUERY|_TheSpecialOne_|@switchfoot http:...|\n",
      "|       1|1467810672|Mon Apr 06 22:19:...|NO_QUERY|  scotthamilton|is upset that he ...|\n",
      "|       2|1467810917|Mon Apr 06 22:19:...|NO_QUERY|       mattycus|@Kenichan I dived...|\n",
      "|       3|1467811184|Mon Apr 06 22:19:...|NO_QUERY|        ElleCTF|my whole body fee...|\n",
      "|       4|1467811193|Mon Apr 06 22:19:...|NO_QUERY|         Karoli|@nationwideclass ...|\n",
      "|       5|1467811372|Mon Apr 06 22:20:...|NO_QUERY|       joy_wolf|@Kwesidei not the...|\n",
      "|       6|1467811592|Mon Apr 06 22:20:...|NO_QUERY|        mybirch|         Need a hug |\n",
      "|       7|1467811594|Mon Apr 06 22:20:...|NO_QUERY|           coZZ|@LOLTrish hey  lo...|\n",
      "|       8|1467811795|Mon Apr 06 22:20:...|NO_QUERY|2Hood4Hollywood|@Tatiana_K nope t...|\n",
      "|       9|1467812025|Mon Apr 06 22:20:...|NO_QUERY|        mimismo|@twittera que me ...|\n",
      "|      10|1467812416|Mon Apr 06 22:20:...|NO_QUERY| erinx3leannexo|spring break in p...|\n",
      "|      11|1467812579|Mon Apr 06 22:20:...|NO_QUERY|   pardonlauren|I just re-pierced...|\n",
      "|      12|1467812723|Mon Apr 06 22:20:...|NO_QUERY|           TLeC|@caregiving I cou...|\n",
      "|      13|1467812771|Mon Apr 06 22:20:...|NO_QUERY|robrobbierobert|@octolinz16 It it...|\n",
      "|      14|1467812784|Mon Apr 06 22:20:...|NO_QUERY|    bayofwolves|@smarrison i woul...|\n",
      "|      15|1467812799|Mon Apr 06 22:20:...|NO_QUERY|     HairByJess|@iamjazzyfizzle I...|\n",
      "|      16|1467812964|Mon Apr 06 22:20:...|NO_QUERY| lovesongwriter|Hollis' death sce...|\n",
      "|      17|1467813137|Mon Apr 06 22:20:...|NO_QUERY|       armotley|about to file taxes |\n",
      "|      18|1467813579|Mon Apr 06 22:20:...|NO_QUERY|     starkissed|@LettyA ahh ive a...|\n",
      "|      19|1467813782|Mon Apr 06 22:20:...|NO_QUERY|      gi_gi_bee|@FakerPattyPattz ...|\n",
      "+--------+----------+--------------------+--------+---------------+--------------------+\n",
      "only showing top 20 rows\n",
      "\n"
     ]
    }
   ],
   "source": [
    "df.show(5, truncate=False)"
   ]
  },
  {
   "cell_type": "code",
   "execution_count": null,
   "id": "5ad92802",
   "metadata": {},
   "outputs": [],
   "source": [
    "# Number of rows\n",
    "num_rows = df.count()\n",
    "\n",
    "# Number of columns\n",
    "num_columns = len(df.columns)\n",
    "\n",
    "# Print out the shape\n",
    "print(f\"The DataFrame shape is: ({num_rows}, {num_columns})\")"
   ]
  },
  {
   "cell_type": "markdown",
   "id": "077350a4",
   "metadata": {},
   "source": [
    "- As presented in the .show, the dataframe called df has 6 columns and 1.6 millions of observations. "
   ]
  },
  {
   "cell_type": "code",
   "execution_count": 4,
   "id": "cf9d127d",
   "metadata": {
    "scrolled": true
   },
   "outputs": [
    {
     "name": "stdout",
     "output_type": "stream",
     "text": [
      "root\n",
      " |-- sequence: integer (nullable = true)\n",
      " |-- ids: string (nullable = true)\n",
      " |-- date: string (nullable = true)\n",
      " |-- flag: string (nullable = true)\n",
      " |-- user: string (nullable = true)\n",
      " |-- text: string (nullable = true)\n",
      "\n"
     ]
    }
   ],
   "source": [
    "# Prints the df schema. \n",
    "df.printSchema()\n",
    "\n",
    "# Which shows that the types of the data are ones set in previous steps."
   ]
  },
  {
   "cell_type": "markdown",
   "id": "4a96f7b3",
   "metadata": {},
   "source": [
    "- It was observable that the dates have a pacific day time (PDT) and the present notebook it has a different time zone, thus setting the time zone to PDT."
   ]
  },
  {
   "cell_type": "code",
   "execution_count": 5,
   "id": "d90cb838",
   "metadata": {},
   "outputs": [],
   "source": [
    "# Sets the time zone to PDT, the same as the date column.\n",
    "spark.conf.set(\"spark.sql.legacy.timeParserPolicy\", \"LEGACY\")\n",
    "spark.conf.set(\"spark.sql.session.timeZone\", \"America/Los_Angeles\")"
   ]
  },
  {
   "cell_type": "code",
   "execution_count": 6,
   "id": "e1983328",
   "metadata": {},
   "outputs": [
    {
     "name": "stdout",
     "output_type": "stream",
     "text": [
      "+--------+----------+--------------------+--------+---------------+--------------------+-------------------+\n",
      "|sequence|       ids|                date|    flag|           user|                text|              dates|\n",
      "+--------+----------+--------------------+--------+---------------+--------------------+-------------------+\n",
      "|       0|1467810369|Mon Apr 06 22:19:...|NO_QUERY|_TheSpecialOne_|@switchfoot http:...|2009-04-06 22:19:45|\n",
      "|       1|1467810672|Mon Apr 06 22:19:...|NO_QUERY|  scotthamilton|is upset that he ...|2009-04-06 22:19:49|\n",
      "|       2|1467810917|Mon Apr 06 22:19:...|NO_QUERY|       mattycus|@Kenichan I dived...|2009-04-06 22:19:53|\n",
      "|       3|1467811184|Mon Apr 06 22:19:...|NO_QUERY|        ElleCTF|my whole body fee...|2009-04-06 22:19:57|\n",
      "|       4|1467811193|Mon Apr 06 22:19:...|NO_QUERY|         Karoli|@nationwideclass ...|2009-04-06 22:19:57|\n",
      "|       5|1467811372|Mon Apr 06 22:20:...|NO_QUERY|       joy_wolf|@Kwesidei not the...|2009-04-06 22:20:00|\n",
      "|       6|1467811592|Mon Apr 06 22:20:...|NO_QUERY|        mybirch|         Need a hug |2009-04-06 22:20:03|\n",
      "|       7|1467811594|Mon Apr 06 22:20:...|NO_QUERY|           coZZ|@LOLTrish hey  lo...|2009-04-06 22:20:03|\n",
      "|       8|1467811795|Mon Apr 06 22:20:...|NO_QUERY|2Hood4Hollywood|@Tatiana_K nope t...|2009-04-06 22:20:05|\n",
      "|       9|1467812025|Mon Apr 06 22:20:...|NO_QUERY|        mimismo|@twittera que me ...|2009-04-06 22:20:09|\n",
      "|      10|1467812416|Mon Apr 06 22:20:...|NO_QUERY| erinx3leannexo|spring break in p...|2009-04-06 22:20:16|\n",
      "|      11|1467812579|Mon Apr 06 22:20:...|NO_QUERY|   pardonlauren|I just re-pierced...|2009-04-06 22:20:17|\n",
      "|      12|1467812723|Mon Apr 06 22:20:...|NO_QUERY|           TLeC|@caregiving I cou...|2009-04-06 22:20:19|\n",
      "|      13|1467812771|Mon Apr 06 22:20:...|NO_QUERY|robrobbierobert|@octolinz16 It it...|2009-04-06 22:20:19|\n",
      "|      14|1467812784|Mon Apr 06 22:20:...|NO_QUERY|    bayofwolves|@smarrison i woul...|2009-04-06 22:20:20|\n",
      "|      15|1467812799|Mon Apr 06 22:20:...|NO_QUERY|     HairByJess|@iamjazzyfizzle I...|2009-04-06 22:20:20|\n",
      "|      16|1467812964|Mon Apr 06 22:20:...|NO_QUERY| lovesongwriter|Hollis' death sce...|2009-04-06 22:20:22|\n",
      "|      17|1467813137|Mon Apr 06 22:20:...|NO_QUERY|       armotley|about to file taxes |2009-04-06 22:20:25|\n",
      "|      18|1467813579|Mon Apr 06 22:20:...|NO_QUERY|     starkissed|@LettyA ahh ive a...|2009-04-06 22:20:31|\n",
      "|      19|1467813782|Mon Apr 06 22:20:...|NO_QUERY|      gi_gi_bee|@FakerPattyPattz ...|2009-04-06 22:20:34|\n",
      "+--------+----------+--------------------+--------+---------------+--------------------+-------------------+\n",
      "only showing top 20 rows\n",
      "\n"
     ]
    }
   ],
   "source": [
    "# Creating a new column where the date has a format that is better to perform analysis and models.\n",
    "# Features like the day of the week and time zone are not necessary. \n",
    "date_format = \"EEE MMM dd HH:mm:ss zzz yyyy\"\n",
    "# Parses the date e creates a new column dates with a shorter format, but with the necessary data. \n",
    "df = df.withColumn(\"dates\", from_unixtime(unix_timestamp(\"date\", date_format)))\n",
    "df.show()"
   ]
  },
  {
   "cell_type": "markdown",
   "id": "99dd271a",
   "metadata": {},
   "source": [
    "### MISSING VALUES (TEXT COLUMN) AND DUPLICATES (TWITTER ID)\n",
    "\n",
    "- The missing values will be searched through the tweets column, since the first objective is to extract the sentiment. \n",
    "- The duplicates will be searched through the twitter Id column, since is a unique identifier for each tweet, any duplicates will be further removed. "
   ]
  },
  {
   "cell_type": "code",
   "execution_count": 10,
   "id": "ed30076d",
   "metadata": {},
   "outputs": [
    {
     "name": "stderr",
     "output_type": "stream",
     "text": [
      "                                                                                \r"
     ]
    },
    {
     "name": "stdout",
     "output_type": "stream",
     "text": [
      "Number of missing values in 'text' column: 0\n"
     ]
    },
    {
     "name": "stderr",
     "output_type": "stream",
     "text": [
      "[Stage 22:>                                                         (0 + 2) / 2]\r"
     ]
    },
    {
     "name": "stdout",
     "output_type": "stream",
     "text": [
      "Number of duplicate ids: 1685\n"
     ]
    },
    {
     "name": "stderr",
     "output_type": "stream",
     "text": [
      "\r",
      "                                                                                \r"
     ]
    }
   ],
   "source": [
    "# Find the count of missing values in the 'text' column\n",
    "missing_values_count = df.filter(df.text.isNull()).count()\n",
    "print(f\"Number of missing values in 'text' column: {missing_values_count}\")\n",
    "\n",
    "# To find duplicates based on the 'ids' column\n",
    "duplicates_count = df.groupBy('ids').count().filter(\"`count` > 1\").count()\n",
    "print(f\"Number of duplicate ids: {duplicates_count}\")"
   ]
  },
  {
   "cell_type": "code",
   "execution_count": 9,
   "id": "125ea22e",
   "metadata": {},
   "outputs": [
    {
     "name": "stderr",
     "output_type": "stream",
     "text": [
      "[Stage 13:>                                                         (0 + 2) / 2]\r"
     ]
    },
    {
     "name": "stdout",
     "output_type": "stream",
     "text": [
      "Number of duplicate ids: 1685\n"
     ]
    },
    {
     "name": "stderr",
     "output_type": "stream",
     "text": [
      "\r",
      "[Stage 13:=============================>                            (1 + 1) / 2]\r",
      "\r",
      "                                                                                \r"
     ]
    }
   ],
   "source": [
    "# To find duplicates based on the 'ids' column\n",
    "duplicates_count = df.groupBy('ids').count().filter(\"`count` > 1\").count()\n",
    "print(f\"Number of duplicate ids: {duplicates_count}\")"
   ]
  },
  {
   "cell_type": "code",
   "execution_count": 11,
   "id": "b97158b3",
   "metadata": {},
   "outputs": [
    {
     "name": "stderr",
     "output_type": "stream",
     "text": [
      "[Stage 28:>                                                         (0 + 2) / 2]\r"
     ]
    },
    {
     "name": "stdout",
     "output_type": "stream",
     "text": [
      "Count after dropping duplicates: 1598315\n"
     ]
    },
    {
     "name": "stderr",
     "output_type": "stream",
     "text": [
      "\r",
      "                                                                                \r"
     ]
    }
   ],
   "source": [
    "df = df.dropDuplicates(['ids'])\n",
    "\n",
    "# Now you can check the count of the DataFrame to ensure duplicates have been removed.\n",
    "print(f\"Count after dropping duplicates: {df.count()}\")"
   ]
  },
  {
   "cell_type": "markdown",
   "id": "24c97ca7",
   "metadata": {},
   "source": [
    "- No presence of empty cells in the dataframe, however 1685 duplicates were found and removed. Reducing the number of observations to 1,598,315.\n",
    "\n",
    "- Next step will drop columns that do not have purpose in the analysis and extraction."
   ]
  },
  {
   "cell_type": "code",
   "execution_count": 12,
   "id": "8fec8cb2",
   "metadata": {},
   "outputs": [
    {
     "name": "stderr",
     "output_type": "stream",
     "text": [
      "[Stage 34:>                                                         (0 + 1) / 1]\r"
     ]
    },
    {
     "name": "stdout",
     "output_type": "stream",
     "text": [
      "+--------+--------------------+-------------------+\n",
      "|sequence|                text|              dates|\n",
      "+--------+--------------------+-------------------+\n",
      "|       0|@switchfoot http:...|2009-04-06 22:19:45|\n",
      "|       1|is upset that he ...|2009-04-06 22:19:49|\n",
      "|       3|my whole body fee...|2009-04-06 22:19:57|\n",
      "|       6|         Need a hug |2009-04-06 22:20:03|\n",
      "|       8|@Tatiana_K nope t...|2009-04-06 22:20:05|\n",
      "|       9|@twittera que me ...|2009-04-06 22:20:09|\n",
      "|      12|@caregiving I cou...|2009-04-06 22:20:19|\n",
      "|      15|@iamjazzyfizzle I...|2009-04-06 22:20:20|\n",
      "|      18|@LettyA ahh ive a...|2009-04-06 22:20:31|\n",
      "|      20|@alydesigns i was...|2009-04-06 22:20:37|\n",
      "|      21|one of my friend ...|2009-04-06 22:20:38|\n",
      "|      29|Meh... Almost Lov...|2009-04-06 22:21:04|\n",
      "|      31|@alielayus I want...|2009-04-06 22:21:07|\n",
      "|      33|@julieebaby awe i...|2009-04-06 22:21:11|\n",
      "|      34|@HumpNinja I cry ...|2009-04-06 22:21:21|\n",
      "|      35|ok I'm sick and s...|2009-04-06 22:21:20|\n",
      "|      36|@cocomix04 ill te...|2009-04-06 22:21:27|\n",
      "|      38|@fleurylis I don'...|2009-04-06 22:21:32|\n",
      "|      43|@JonathanRKnight ...|2009-04-06 22:21:53|\n",
      "|      47|Oh man...was iron...|2009-04-06 22:22:07|\n",
      "+--------+--------------------+-------------------+\n",
      "only showing top 20 rows\n",
      "\n"
     ]
    },
    {
     "name": "stderr",
     "output_type": "stream",
     "text": [
      "\r",
      "                                                                                \r"
     ]
    }
   ],
   "source": [
    "df = df.drop(\"date\", \"ids\", \"user\", \"flag\")\n",
    "df.show()"
   ]
  },
  {
   "cell_type": "markdown",
   "id": "efcc9dc0",
   "metadata": {},
   "source": [
    "- The column sequence was kept because it contains the original sequence of the dataframe, so in case of any shuffling the original sequence can be called. \n",
    "\n",
    "- Next stage will be performed the pre-processing of the tweets.  "
   ]
  },
  {
   "cell_type": "markdown",
   "id": "4687c535",
   "metadata": {},
   "source": [
    "# Pre-processing of the tweets and sentiment extraction."
   ]
  },
  {
   "cell_type": "markdown",
   "id": "5c0f245a",
   "metadata": {},
   "source": [
    "- This step is separeted by two main lines of code, the first will normalized the tweets, by removing url, tags, mentions and character which has no meaning in sentiment extraction. The second is a pipeline from sparkNLP to generate and extract data that it is required to sentiment analysis over time and forecasting. \n",
    "\n",
    "- Both of the approaches will attempt to leverage the potential of Spark tools, such as the regex and the Natural Language Processing (NLP) tool, where it has numerous options from the simplest detection to deep learning. "
   ]
  },
  {
   "cell_type": "code",
   "execution_count": 13,
   "id": "3b0a38a3",
   "metadata": {},
   "outputs": [
    {
     "name": "stderr",
     "output_type": "stream",
     "text": [
      "[Stage 37:>                                                         (0 + 1) / 1]\r"
     ]
    },
    {
     "name": "stdout",
     "output_type": "stream",
     "text": [
      "+-----------------------------------------------------------------------------------------------------------------------------+\n",
      "|text                                                                                                                         |\n",
      "+-----------------------------------------------------------------------------------------------------------------------------+\n",
      "|   a11 thats a bummer  you shoulda got david carr of third day to do it d                                                    |\n",
      "|is upset that he cant update his facebook by texting it11 and might cry as a result  school today also blah                  |\n",
      "| i dived many times for the ball managed to save   the rest go out of bounds                                                 |\n",
      "|my whole body feels itchy and like its on fire                                                                               |\n",
      "|need a hug                                                                                                                   |\n",
      "| nope they didnt have it                                                                                                     |\n",
      "| que me muera                                                                                                                |\n",
      "| i couldnt bear to watch it  and i thought the ua loss was embarrassing                                                      |\n",
      "| i wish i got to watch it with you i miss you and11how was the premiere                                                      |\n",
      "| ahh ive always wanted to see rent  love the soundtrack                                                                      |\n",
      "| i was out most of the day so didnt get much done                                                                            |\n",
      "|one of my friend called me and asked to meet with her at mid valley today11but ive no time sigh                              |\n",
      "|im sad now  misslilly                                                                                                        |\n",
      "|meh11 almost lover is the exception11 this track gets me depressed every time                                                |\n",
      "| i want to go to promote gear and groove but unfornately no ride there  i may b going to the one in anaheim in may though    |\n",
      "| awe i love you too11  am here  i miss you                                                                                   |\n",
      "| i cry my asian eyes to sleep at night                                                                                       |\n",
      "|ok im sick and spent an hour sitting in the shower cause i was too sick to stand and held back the puke like a champ bed now |\n",
      "| ill tell ya the story later  not a good day and ill be workin for like three more hours11                                   |\n",
      "| i dont either its depressing i dont think i even want to know about the kids in suitcases                                   |\n",
      "+-----------------------------------------------------------------------------------------------------------------------------+\n",
      "only showing top 20 rows\n",
      "\n"
     ]
    },
    {
     "name": "stderr",
     "output_type": "stream",
     "text": [
      "\r",
      "                                                                                \r"
     ]
    }
   ],
   "source": [
    "# Remove URLs\n",
    "df = df.withColumn(\"text\", F.regexp_replace(F.col(\"text\"), \"http(s)?://[^\\\\s]+\", \"\"))\n",
    "\n",
    "# Remove HTML tags\n",
    "df = df.withColumn(\"text\", F.regexp_replace(F.col(\"text\"), \"<[^>]+>\", \"\"))\n",
    "\n",
    "# Remove mentions (i.e., @username)\n",
    "df = df.withColumn(\"text\", F.regexp_replace(F.col(\"text\"), \"@\\\\w+\", \"\"))\n",
    "\n",
    "# Convert to lowercase\n",
    "df = df.withColumn('text', lower(df['text']))\n",
    "\n",
    "# Remove numbers from the \"text\" column\n",
    "df = df.withColumn('text', regexp_replace(df['text'], r'\\d+', ''))\n",
    "\n",
    "# Reduce excessive characters (more than two of the same in a row)\n",
    "df = df.withColumn('text', regexp_replace('text', r'(.)\\1{2,}', r'\\1\\1'))\n",
    "\n",
    "# Remove punctuation\n",
    "df = df.withColumn('text', regexp_replace(df['text'], r\"[^\\w\\s]\", \"\"))\n",
    "\n",
    "df.select(\"text\").show(truncate=False)"
   ]
  },
  {
   "cell_type": "code",
   "execution_count": 14,
   "id": "97a2a815",
   "metadata": {},
   "outputs": [
    {
     "name": "stderr",
     "output_type": "stream",
     "text": [
      "[Stage 52:=============================>                            (1 + 1) / 2]\r"
     ]
    },
    {
     "name": "stdout",
     "output_type": "stream",
     "text": [
      "Number of entries with URLs: 0\n",
      "Number of entries with HTML tags: 0\n",
      "Number of entries with mentions: 0\n"
     ]
    },
    {
     "name": "stderr",
     "output_type": "stream",
     "text": [
      "\r",
      "                                                                                \r"
     ]
    }
   ],
   "source": [
    "# Counts the entries with URLs.\n",
    "url_count = df.filter(F.col(\"text\").rlike(\"http(s)?://([\\\\w-]+\\\\.)+[\\\\w-]+(/[\\\\w- ./?%&=]*)?\")).count()\n",
    "\n",
    "# Counts the entries with HTML tags.\n",
    "html_tags_count = df.filter(F.col(\"text\").rlike(\"<[^>]+>\")).count()\n",
    "\n",
    "# Counts the entries with mentions (@username).\n",
    "mentions_count = df.filter(F.col(\"text\").rlike(\"@\\\\w+\")).count()\n",
    "\n",
    "print(f\"Number of entries with URLs: {url_count}\")\n",
    "print(f\"Number of entries with HTML tags: {html_tags_count}\")\n",
    "print(f\"Number of entries with mentions: {mentions_count}\")"
   ]
  },
  {
   "cell_type": "code",
   "execution_count": 15,
   "id": "c40ce73d",
   "metadata": {
    "scrolled": true
   },
   "outputs": [
    {
     "name": "stderr",
     "output_type": "stream",
     "text": [
      "[Stage 58:=============================>                            (1 + 1) / 2]\r"
     ]
    },
    {
     "name": "stdout",
     "output_type": "stream",
     "text": [
      "Number of missing values in 'text' column: 0\n"
     ]
    },
    {
     "name": "stderr",
     "output_type": "stream",
     "text": [
      "\r",
      "                                                                                \r"
     ]
    }
   ],
   "source": [
    "# Find the count of missing values in the 'text' column\n",
    "missing_values_count = df.filter(df.text.isNull()).count()\n",
    "print(f\"Number of missing values in 'text' column: {missing_values_count}\")"
   ]
  },
  {
   "cell_type": "markdown",
   "id": "c98eca7b",
   "metadata": {},
   "source": [
    "The last few lines of code shows that: \n",
    "- The final format is satisfatory to apply NLP techniques; \n",
    "- No mentions, tags, html were found after normalization;\n",
    "- Also, no missing values were generated by the regex; "
   ]
  },
  {
   "cell_type": "markdown",
   "id": "8be12821",
   "metadata": {},
   "source": [
    "### Natural Language Processing with SparkNLP library. \n",
    "\n",
    "The library chosen is based on a few factors. First, to extract the semtiment VADER approach , which is considered to be appropriate for social media content was attempt. However, erros related to out of memory and serialization led to the discard of the technique. And with many other options sparkNLP presented to be a good option, for memory efficiency and richness of NLP tasks. \n",
    "Overvall the choice of the library relies on: \n",
    "- It was built on top of Spark, thus is highly scalable and it is an appropriate choice for big dataframes, which is the case of this project, with more than a million tweets.\n",
    "- It possess a vast number of operations, from the simplest to neural networks. The operations that are necessary to extract the data required can be achieved with only one library (memory effiency and consistency during transformations). \n",
    "- Pipeline, tasks can be perfomed with an optimized workflows through pipelines, reducing the number of codes to be called. \n",
    "- Pre-trained models, the library has models that are trained already that can be applied to other dataframes, in case of this project, to detect the language, spell checker, word embeddings and sentiment extraction techniques will be used. \n",
    "\n",
    "The codes and usage for the techniques and models were obtain through the SparkNLP documentation / annotadors. <br>\n",
    "1.  https://sparknlp.org/docs/en/concepts <br>\n",
    "2.  https://sparknlp.org/docs/en/annotators"
   ]
  },
  {
   "cell_type": "markdown",
   "id": "841c4d43",
   "metadata": {},
   "source": [
    "The pipeline is composed by eight operations: \n",
    "\n",
    "1. The first is to transform the tweets into a document format that is going to be required in the next stages;\n",
    "\n",
    "2. Not only to maintain the original context, many other operations in the pipeline needs the text at a sentence level to perform at best, in the present case, the tokenizer onwards is mainly using this format;\n",
    "\n",
    "3. Tokenization of the tweets, the next techniques required that the text inputs are separeted;\n",
    "\n",
    "4. In social media content is known to have many type of misspellings and the sparkNLP provides a few options to correct it <b>(1)</b>. The pre-trained chosen model is NorvigSweeting model, although the choice was made due to memory constrains.<b>(2)</b> \n",
    "- The first pre-trained approach attempted was the Context Spell Checker, a noisy channel model spell algorithm. However, the machine used for project resulted in running of out memory, the machine is not powerful enough to perform this model. \n",
    "\n",
    "The attempts of the following stages were performed back and forth until a workflow was accepted by the machine capabilities. To avoid repetition, the steps 5, 6 and 7 were chosen by the machine capabilities, although the experiments of each one will be listed below. \n",
    "\n",
    "5. Embedding the words using the method Glove (100 dimensions) to vectorize the tokens. One of the simplest model provided by the annotators. Numerous trials were performed using different techniques, roBERta, BERT, Universal Sentence Encoder (USC), but all returned the same error, out of memory. In addition, the choice of the embedding technique suffered influence of the next steps.\n",
    "\n",
    "6. Sentiment is extract at a sentence level, therefore the word embedding need to be to be transformed.\n",
    "\n",
    "7. The model that will predict the sentiment of the tweets is the sentimentDL using the pre-trained model on the Glove imdb (movies reviews). \n",
    "- The model is not the ideal for this dataframe, however, models like the sentimentdl_use_twitter were attempted however it required a type of embedding that the present machine could not perform the UCS. <b>(3)</b> Therefore, the extraction and embedding approaches were chosen to aim the most suitable for text and accepted by the machine memory. \n",
    "\n",
    "\n",
    "<b>(1):</b>https://medium.com/john-snow-labs/easily-correcting-typos-and-spelling-errors-on-texts-with-spark-nlp-and-python-1cffa3250f57 <br>\n",
    "<b>(2):</b>https://sparknlp.org/docs/en/annotators#contextspellchecker <br>\n",
    "<b>(3):</b>https://sparknlp.org/2021/01/18/sentimentdl_use_twitter_en.html"
   ]
  },
  {
   "cell_type": "code",
   "execution_count": 18,
   "id": "8730e686",
   "metadata": {},
   "outputs": [
    {
     "name": "stdout",
     "output_type": "stream",
     "text": [
      "ld_wiki_tatoeba_cnn_21 download started this may take some time.\n",
      "Approximate size to download 7.1 MB\n",
      "[ — ]ld_wiki_tatoeba_cnn_21 download started this may take some time.\n",
      "Approximate size to download 7.1 MB\n",
      "[ / ]Download done! Loading the resource.\n"
     ]
    },
    {
     "name": "stderr",
     "output_type": "stream",
     "text": [
      "\r",
      "[Stage 62:>                                                         (0 + 1) / 1]\r",
      "\r",
      "                                                                                \r"
     ]
    },
    {
     "name": "stdout",
     "output_type": "stream",
     "text": [
      "[ | ]"
     ]
    },
    {
     "name": "stderr",
     "output_type": "stream",
     "text": [
      "2023-11-07 13:15:53.838569: I external/org_tensorflow/tensorflow/core/platform/cpu_feature_guard.cc:151] This TensorFlow binary is optimized with oneAPI Deep Neural Network Library (oneDNN) to use the following CPU instructions in performance-critical operations:  AVX2\n",
      "To enable them in other operations, rebuild TensorFlow with the appropriate compiler flags.\n"
     ]
    },
    {
     "name": "stdout",
     "output_type": "stream",
     "text": [
      "[OK!]\n",
      "spellcheck_norvig download started this may take some time.\n",
      "Approximate size to download 4.2 MB\n",
      "[ / ]spellcheck_norvig download started this may take some time.\n",
      "Approximate size to download 4.2 MB\n",
      "[ | ]Download done! Loading the resource.\n",
      "[ / ]"
     ]
    },
    {
     "name": "stderr",
     "output_type": "stream",
     "text": [
      "[Stage 66:==============>                                          (3 + 3) / 12]\r"
     ]
    },
    {
     "name": "stdout",
     "output_type": "stream",
     "text": [
      "\r",
      "[ — ]"
     ]
    },
    {
     "name": "stderr",
     "output_type": "stream",
     "text": [
      "[Stage 66:======================================>                  (8 + 2) / 12]\r"
     ]
    },
    {
     "name": "stdout",
     "output_type": "stream",
     "text": [
      "\r",
      "[ \\ ]"
     ]
    },
    {
     "name": "stderr",
     "output_type": "stream",
     "text": [
      "                                                                                \r"
     ]
    },
    {
     "name": "stdout",
     "output_type": "stream",
     "text": [
      "[OK!]\n",
      "glove_100d download started this may take some time.\n",
      "Approximate size to download 145.3 MB\n",
      "[ | ]glove_100d download started this may take some time.\n",
      "Approximate size to download 145.3 MB\n",
      "Download done! Loading the resource.\n",
      "[OK!]\n",
      "sentimentdl_glove_imdb download started this may take some time.\n",
      "Approximate size to download 8.7 MB\n",
      "[ — ]sentimentdl_glove_imdb download started this may take some time.\n",
      "Approximate size to download 8.7 MB\n",
      "[ \\ ]Download done! Loading the resource.\n"
     ]
    },
    {
     "name": "stderr",
     "output_type": "stream",
     "text": [
      "\r",
      "[Stage 68:>                                                         (0 + 1) / 1]\r"
     ]
    },
    {
     "name": "stdout",
     "output_type": "stream",
     "text": [
      "\r",
      "[ | ]"
     ]
    },
    {
     "name": "stderr",
     "output_type": "stream",
     "text": [
      "\r",
      "                                                                                \r"
     ]
    },
    {
     "name": "stdout",
     "output_type": "stream",
     "text": [
      "[OK!]\n"
     ]
    }
   ],
   "source": [
    "from sparknlp.annotator import *\n",
    "from sparknlp.base import *\n",
    "\n",
    "# 1. Document assembler.\n",
    "document_assembler = DocumentAssembler() \\\n",
    "    .setInputCol(\"text\") \\\n",
    "    .setOutputCol(\"document\")\n",
    "\n",
    "# 2. Sentence detector.\n",
    "sentence_detector = SentenceDetector() \\\n",
    "    .setInputCols([\"document\"]) \\\n",
    "    .setOutputCol(\"sentence\")\n",
    "\n",
    "# 3. Tokenize the tweets.\n",
    "tokenizer = Tokenizer() \\\n",
    "    .setInputCols([\"sentence\"]) \\\n",
    "    .setOutputCol(\"token\")\n",
    "\n",
    "# 4. Context-aware Spell Checker\n",
    "spellChecker = NorvigSweetingModel.pretrained() \\\n",
    "    .setInputCols([\"token\"]) \\\n",
    "    .setOutputCol(\"corrected\")\n",
    "\n",
    "# 5. Word Embedding with Glove (100 dimentions).\n",
    "embeddings = WordEmbeddingsModel.pretrained('glove_100d') \\\n",
    "    .setInputCols([\"sentence\", \"corrected\"]) \\\n",
    "    .setOutputCol(\"embeddings\")\n",
    "\n",
    "# 6. Convert word embeddings to sentence embeddings, which is required for the sentiment extraction model. \n",
    "sentence_embeddings = SentenceEmbeddings() \\\n",
    "    .setInputCols([\"sentence\", \"embeddings\"]) \\\n",
    "    .setOutputCol(\"sentence_embeddings\") \\\n",
    "    .setPoolingStrategy(\"AVERAGE\")\n",
    "\n",
    "# 7. Use the SentimentDLModel compatible with GloVe embeddings (Threshold set 0.6 is also the default value)\n",
    "sentiment_detector = SentimentDLModel.pretrained('sentimentdl_glove_imdb', 'en') \\\n",
    "    .setInputCols([\"sentence_embeddings\"]) \\\n",
    "    .setOutputCol(\"sentiment\") \\\n",
    "    .setThreshold(0.6) \\\n",
    "\n",
    "# 8. Finisher to convert annotations (the corrected tweets in token format and the sentiments) to DataFrame columns.\n",
    "# The outputasarrys is set to false because by its defaults is true, however having as an array it means that an \n",
    "# extra operations (ie.:explode) will be required.\n",
    "finisher = Finisher() \\\n",
    "    .setInputCols([\"sentiment\", \"corrected\"]) \\\n",
    "    .setOutputCols([\"sentiment_result\", \"corrected_tweets\"]) \\\n",
    "    .setOutputAsArray(False) \\\n",
    "    .setIncludeMetadata(True)  # Set to true because the sentiment scores are in the metadata.\n",
    "\n",
    "pipeline = Pipeline(stages=[\n",
    "    document_assembler,\n",
    "    sentence_detector,\n",
    "    tokenizer,\n",
    "    spellChecker,\n",
    "    embeddings,\n",
    "    sentence_embeddings,\n",
    "    sentiment_detector,\n",
    "    finisher\n",
    "])"
   ]
  },
  {
   "cell_type": "markdown",
   "id": "3dae5186",
   "metadata": {},
   "source": [
    "- The pipeline will be applied and the results will be the addition of the columns with the corrected text (token format) and the sentiment (score and polarity) along with the metadata.\n",
    "<br><br>\n",
    "- The persist is being called in this line of code for a few reasons: \n",
    "1. Jupyter getting slow and memory issues starting to appear after the pipeline.\n",
    "2. The dataframe suffered transformations up to this point and it will have more additional tasks after the pipeline, therefore to avoid the calculation of the workflow the technique will be applied. Note: cache was also attempted but the memory itself was not enough, thus sharing the dataframe between disk and memory."
   ]
  },
  {
   "cell_type": "code",
   "execution_count": 19,
   "id": "6fb5946a",
   "metadata": {
    "scrolled": true
   },
   "outputs": [
    {
     "name": "stderr",
     "output_type": "stream",
     "text": [
      "2023-11-07 15:01:32,976 WARN memory.MemoryStore: Not enough space to cache rdd_160_96 in memory! (computed 1252.3 KiB so far)\n",
      "2023-11-07 15:01:33,008 WARN storage.BlockManager: Persisting block rdd_160_96 to disk instead.\n",
      "2023-11-07 15:02:50,968 WARN memory.MemoryStore: Failed to reserve initial memory threshold of 1024.0 KiB for computing block rdd_160_98 in memory.\n",
      "2023-11-07 15:02:51,534 WARN memory.MemoryStore: Not enough space to cache rdd_160_98 in memory! (computed 0.0 B so far)\n",
      "2023-11-07 15:02:51,534 WARN storage.BlockManager: Persisting block rdd_160_98 to disk instead.\n",
      "2023-11-07 15:05:02,151 WARN memory.MemoryStore: Failed to reserve initial memory threshold of 1024.0 KiB for computing block rdd_160_100 in memory.\n",
      "2023-11-07 15:05:02,943 WARN memory.MemoryStore: Not enough space to cache rdd_160_100 in memory! (computed 0.0 B so far)\n",
      "2023-11-07 15:05:02,943 WARN storage.BlockManager: Persisting block rdd_160_100 to disk instead.\n",
      "2023-11-07 15:07:01,802 WARN memory.MemoryStore: Failed to reserve initial memory threshold of 1024.0 KiB for computing block rdd_160_102 in memory.\n",
      "2023-11-07 15:07:02,406 WARN memory.MemoryStore: Not enough space to cache rdd_160_102 in memory! (computed 0.0 B so far)\n",
      "2023-11-07 15:07:02,407 WARN storage.BlockManager: Persisting block rdd_160_102 to disk instead.\n",
      "2023-11-07 15:08:55,534 WARN memory.MemoryStore: Failed to reserve initial memory threshold of 1024.0 KiB for computing block rdd_160_104 in memory.\n",
      "2023-11-07 15:08:56,317 WARN memory.MemoryStore: Not enough space to cache rdd_160_104 in memory! (computed 0.0 B so far)\n",
      "2023-11-07 15:08:56,317 WARN storage.BlockManager: Persisting block rdd_160_104 to disk instead.\n",
      "2023-11-07 15:10:53,972 WARN memory.MemoryStore: Failed to reserve initial memory threshold of 1024.0 KiB for computing block rdd_160_106 in memory.\n",
      "2023-11-07 15:10:54,702 WARN memory.MemoryStore: Not enough space to cache rdd_160_106 in memory! (computed 0.0 B so far)\n",
      "2023-11-07 15:10:54,704 WARN storage.BlockManager: Persisting block rdd_160_106 to disk instead.\n",
      "2023-11-07 15:12:52,957 WARN memory.MemoryStore: Failed to reserve initial memory threshold of 1024.0 KiB for computing block rdd_160_108 in memory.\n",
      "2023-11-07 15:12:53,519 WARN memory.MemoryStore: Not enough space to cache rdd_160_108 in memory! (computed 0.0 B so far)\n",
      "2023-11-07 15:12:53,519 WARN storage.BlockManager: Persisting block rdd_160_108 to disk instead.\n",
      "2023-11-07 15:15:01,029 WARN memory.MemoryStore: Failed to reserve initial memory threshold of 1024.0 KiB for computing block rdd_160_110 in memory.\n",
      "2023-11-07 15:15:01,738 WARN memory.MemoryStore: Not enough space to cache rdd_160_110 in memory! (computed 0.0 B so far)\n",
      "2023-11-07 15:15:01,739 WARN storage.BlockManager: Persisting block rdd_160_110 to disk instead.\n",
      "2023-11-07 15:16:58,700 WARN memory.MemoryStore: Failed to reserve initial memory threshold of 1024.0 KiB for computing block rdd_160_112 in memory.\n",
      "2023-11-07 15:16:59,385 WARN memory.MemoryStore: Not enough space to cache rdd_160_112 in memory! (computed 0.0 B so far)\n",
      "2023-11-07 15:16:59,386 WARN storage.BlockManager: Persisting block rdd_160_112 to disk instead.\n",
      "2023-11-07 15:19:28,100 WARN memory.MemoryStore: Failed to reserve initial memory threshold of 1024.0 KiB for computing block rdd_160_115 in memory.\n",
      "2023-11-07 15:19:31,688 WARN memory.MemoryStore: Not enough space to cache rdd_160_115 in memory! (computed 0.0 B so far)\n",
      "2023-11-07 15:19:31,689 WARN storage.BlockManager: Persisting block rdd_160_115 to disk instead.\n",
      "2023-11-07 15:21:47,813 WARN memory.MemoryStore: Failed to reserve initial memory threshold of 1024.0 KiB for computing block rdd_160_117 in memory.\n",
      "2023-11-07 15:21:48,400 WARN memory.MemoryStore: Not enough space to cache rdd_160_117 in memory! (computed 0.0 B so far)\n",
      "2023-11-07 15:21:48,401 WARN storage.BlockManager: Persisting block rdd_160_117 to disk instead.\n",
      "2023-11-07 15:22:12,626 WARN memory.MemoryStore: Not enough space to cache rdd_160_116 in memory! (computed 1252.9 KiB so far)\n",
      "2023-11-07 15:22:12,631 WARN storage.BlockManager: Persisting block rdd_160_116 to disk instead.\n",
      "2023-11-07 15:24:30,401 WARN memory.MemoryStore: Failed to reserve initial memory threshold of 1024.0 KiB for computing block rdd_160_119 in memory.\n",
      "2023-11-07 15:24:30,989 WARN memory.MemoryStore: Not enough space to cache rdd_160_119 in memory! (computed 0.0 B so far)\n",
      "2023-11-07 15:24:30,989 WARN storage.BlockManager: Persisting block rdd_160_119 to disk instead.\n",
      "2023-11-07 15:26:33,043 WARN memory.MemoryStore: Failed to reserve initial memory threshold of 1024.0 KiB for computing block rdd_160_121 in memory.\n",
      "2023-11-07 15:26:33,758 WARN memory.MemoryStore: Not enough space to cache rdd_160_121 in memory! (computed 0.0 B so far)\n",
      "2023-11-07 15:26:33,759 WARN storage.BlockManager: Persisting block rdd_160_121 to disk instead.\n",
      "2023-11-07 15:26:58,752 WARN memory.MemoryStore: Not enough space to cache rdd_160_120 in memory! (computed 1255.4 KiB so far)\n",
      "2023-11-07 15:26:58,753 WARN storage.BlockManager: Persisting block rdd_160_120 to disk instead.\n",
      "2023-11-07 15:29:08,128 WARN memory.MemoryStore: Failed to reserve initial memory threshold of 1024.0 KiB for computing block rdd_160_123 in memory.\n",
      "2023-11-07 15:29:08,793 WARN memory.MemoryStore: Not enough space to cache rdd_160_123 in memory! (computed 0.0 B so far)\n",
      "2023-11-07 15:29:08,794 WARN storage.BlockManager: Persisting block rdd_160_123 to disk instead.\n",
      "2023-11-07 15:29:27,118 WARN memory.MemoryStore: Not enough space to cache rdd_160_122 in memory! (computed 1253.3 KiB so far)\n",
      "2023-11-07 15:29:27,119 WARN storage.BlockManager: Persisting block rdd_160_122 to disk instead.\n",
      "2023-11-07 15:31:23,892 WARN memory.MemoryStore: Failed to reserve initial memory threshold of 1024.0 KiB for computing block rdd_160_125 in memory.\n",
      "2023-11-07 15:31:24,549 WARN memory.MemoryStore: Not enough space to cache rdd_160_125 in memory! (computed 0.0 B so far)\n",
      "2023-11-07 15:31:24,549 WARN storage.BlockManager: Persisting block rdd_160_125 to disk instead.\n",
      "2023-11-07 15:33:21,065 WARN memory.MemoryStore: Failed to reserve initial memory threshold of 1024.0 KiB for computing block rdd_160_127 in memory.\n",
      "2023-11-07 15:33:21,673 WARN memory.MemoryStore: Not enough space to cache rdd_160_127 in memory! (computed 0.0 B so far)\n",
      "2023-11-07 15:33:21,673 WARN storage.BlockManager: Persisting block rdd_160_127 to disk instead.\n",
      "2023-11-07 15:35:18,037 WARN memory.MemoryStore: Failed to reserve initial memory threshold of 1024.0 KiB for computing block rdd_160_129 in memory.\n",
      "2023-11-07 15:35:18,733 WARN memory.MemoryStore: Not enough space to cache rdd_160_129 in memory! (computed 0.0 B so far)\n",
      "2023-11-07 15:35:18,733 WARN storage.BlockManager: Persisting block rdd_160_129 to disk instead.\n",
      "2023-11-07 15:37:20,451 WARN memory.MemoryStore: Failed to reserve initial memory threshold of 1024.0 KiB for computing block rdd_160_131 in memory.\n",
      "2023-11-07 15:37:21,097 WARN memory.MemoryStore: Not enough space to cache rdd_160_131 in memory! (computed 0.0 B so far)\n",
      "2023-11-07 15:37:21,105 WARN storage.BlockManager: Persisting block rdd_160_131 to disk instead.\n",
      "2023-11-07 15:37:39,557 WARN memory.MemoryStore: Not enough space to cache rdd_160_130 in memory! (computed 1253.5 KiB so far)\n",
      "2023-11-07 15:37:39,558 WARN storage.BlockManager: Persisting block rdd_160_130 to disk instead.\n",
      "2023-11-07 15:39:22,693 WARN memory.MemoryStore: Failed to reserve initial memory threshold of 1024.0 KiB for computing block rdd_160_133 in memory.\n",
      "2023-11-07 15:39:23,228 WARN memory.MemoryStore: Not enough space to cache rdd_160_133 in memory! (computed 0.0 B so far)\n",
      "2023-11-07 15:39:23,228 WARN storage.BlockManager: Persisting block rdd_160_133 to disk instead.\n",
      "2023-11-07 15:41:17,797 WARN memory.MemoryStore: Failed to reserve initial memory threshold of 1024.0 KiB for computing block rdd_160_135 in memory.\n",
      "2023-11-07 15:41:18,428 WARN memory.MemoryStore: Not enough space to cache rdd_160_135 in memory! (computed 0.0 B so far)\n",
      "2023-11-07 15:41:18,428 WARN storage.BlockManager: Persisting block rdd_160_135 to disk instead.\n",
      "2023-11-07 15:43:45,861 WARN memory.MemoryStore: Not enough space to cache rdd_160_136 in memory! (computed 1252.5 KiB so far)\n",
      "2023-11-07 15:43:45,866 WARN storage.BlockManager: Persisting block rdd_160_136 to disk instead.\n"
     ]
    },
    {
     "name": "stderr",
     "output_type": "stream",
     "text": [
      "2023-11-07 15:45:02,655 WARN memory.MemoryStore: Failed to reserve initial memory threshold of 1024.0 KiB for computing block rdd_160_138 in memory.\n",
      "2023-11-07 15:45:03,319 WARN memory.MemoryStore: Not enough space to cache rdd_160_138 in memory! (computed 0.0 B so far)\n",
      "2023-11-07 15:45:03,321 WARN storage.BlockManager: Persisting block rdd_160_138 to disk instead.\n",
      "2023-11-07 15:47:01,326 WARN memory.MemoryStore: Failed to reserve initial memory threshold of 1024.0 KiB for computing block rdd_160_140 in memory.\n",
      "2023-11-07 15:47:02,021 WARN memory.MemoryStore: Not enough space to cache rdd_160_140 in memory! (computed 0.0 B so far)\n",
      "2023-11-07 15:47:02,022 WARN storage.BlockManager: Persisting block rdd_160_140 to disk instead.\n",
      "2023-11-07 15:49:01,118 WARN memory.MemoryStore: Failed to reserve initial memory threshold of 1024.0 KiB for computing block rdd_160_142 in memory.\n",
      "2023-11-07 15:49:01,980 WARN memory.MemoryStore: Not enough space to cache rdd_160_142 in memory! (computed 0.0 B so far)\n",
      "2023-11-07 15:49:01,981 WARN storage.BlockManager: Persisting block rdd_160_142 to disk instead.\n",
      "2023-11-07 15:50:55,580 WARN memory.MemoryStore: Failed to reserve initial memory threshold of 1024.0 KiB for computing block rdd_160_144 in memory.\n",
      "2023-11-07 15:50:56,181 WARN memory.MemoryStore: Not enough space to cache rdd_160_144 in memory! (computed 0.0 B so far)\n",
      "2023-11-07 15:50:56,181 WARN storage.BlockManager: Persisting block rdd_160_144 to disk instead.\n",
      "2023-11-07 15:52:50,349 WARN memory.MemoryStore: Failed to reserve initial memory threshold of 1024.0 KiB for computing block rdd_160_146 in memory.\n",
      "2023-11-07 15:52:50,956 WARN memory.MemoryStore: Not enough space to cache rdd_160_146 in memory! (computed 0.0 B so far)\n",
      "2023-11-07 15:52:50,966 WARN storage.BlockManager: Persisting block rdd_160_146 to disk instead.\n",
      "2023-11-07 15:54:47,832 WARN memory.MemoryStore: Failed to reserve initial memory threshold of 1024.0 KiB for computing block rdd_160_148 in memory.\n",
      "2023-11-07 15:54:48,560 WARN memory.MemoryStore: Not enough space to cache rdd_160_148 in memory! (computed 0.0 B so far)\n",
      "2023-11-07 15:54:48,561 WARN storage.BlockManager: Persisting block rdd_160_148 to disk instead.\n",
      "2023-11-07 15:56:46,702 WARN memory.MemoryStore: Failed to reserve initial memory threshold of 1024.0 KiB for computing block rdd_160_150 in memory.\n",
      "2023-11-07 15:56:47,220 WARN memory.MemoryStore: Not enough space to cache rdd_160_150 in memory! (computed 0.0 B so far)\n",
      "2023-11-07 15:56:47,221 WARN storage.BlockManager: Persisting block rdd_160_150 to disk instead.\n",
      "2023-11-07 15:58:43,388 WARN memory.MemoryStore: Failed to reserve initial memory threshold of 1024.0 KiB for computing block rdd_160_152 in memory.\n",
      "2023-11-07 15:58:43,960 WARN memory.MemoryStore: Not enough space to cache rdd_160_152 in memory! (computed 0.0 B so far)\n",
      "2023-11-07 15:58:43,960 WARN storage.BlockManager: Persisting block rdd_160_152 to disk instead.\n",
      "2023-11-07 16:00:40,630 WARN memory.MemoryStore: Failed to reserve initial memory threshold of 1024.0 KiB for computing block rdd_160_154 in memory.\n",
      "2023-11-07 16:00:41,255 WARN memory.MemoryStore: Not enough space to cache rdd_160_154 in memory! (computed 0.0 B so far)\n",
      "2023-11-07 16:00:41,255 WARN storage.BlockManager: Persisting block rdd_160_154 to disk instead.\n",
      "2023-11-07 16:02:36,052 WARN memory.MemoryStore: Failed to reserve initial memory threshold of 1024.0 KiB for computing block rdd_160_156 in memory.\n",
      "2023-11-07 16:02:36,748 WARN memory.MemoryStore: Not enough space to cache rdd_160_156 in memory! (computed 0.0 B so far)\n",
      "2023-11-07 16:02:36,748 WARN storage.BlockManager: Persisting block rdd_160_156 to disk instead.\n",
      "2023-11-07 16:04:31,768 WARN memory.MemoryStore: Failed to reserve initial memory threshold of 1024.0 KiB for computing block rdd_160_158 in memory.\n",
      "2023-11-07 16:04:32,348 WARN memory.MemoryStore: Not enough space to cache rdd_160_158 in memory! (computed 0.0 B so far)\n",
      "2023-11-07 16:04:32,349 WARN storage.BlockManager: Persisting block rdd_160_158 to disk instead.\n",
      "2023-11-07 16:06:25,330 WARN memory.MemoryStore: Failed to reserve initial memory threshold of 1024.0 KiB for computing block rdd_160_160 in memory.\n",
      "2023-11-07 16:06:25,922 WARN memory.MemoryStore: Not enough space to cache rdd_160_160 in memory! (computed 0.0 B so far)\n",
      "2023-11-07 16:06:25,923 WARN storage.BlockManager: Persisting block rdd_160_160 to disk instead.\n",
      "2023-11-07 16:08:21,464 WARN memory.MemoryStore: Failed to reserve initial memory threshold of 1024.0 KiB for computing block rdd_160_162 in memory.\n",
      "2023-11-07 16:08:22,044 WARN memory.MemoryStore: Not enough space to cache rdd_160_162 in memory! (computed 0.0 B so far)\n",
      "2023-11-07 16:08:22,045 WARN storage.BlockManager: Persisting block rdd_160_162 to disk instead.\n",
      "2023-11-07 16:10:15,623 WARN memory.MemoryStore: Failed to reserve initial memory threshold of 1024.0 KiB for computing block rdd_160_164 in memory.\n",
      "2023-11-07 16:10:16,282 WARN memory.MemoryStore: Not enough space to cache rdd_160_164 in memory! (computed 0.0 B so far)\n",
      "2023-11-07 16:10:16,283 WARN storage.BlockManager: Persisting block rdd_160_164 to disk instead.\n",
      "2023-11-07 16:12:10,357 WARN memory.MemoryStore: Failed to reserve initial memory threshold of 1024.0 KiB for computing block rdd_160_166 in memory.\n",
      "2023-11-07 16:12:10,999 WARN memory.MemoryStore: Not enough space to cache rdd_160_166 in memory! (computed 0.0 B so far)\n",
      "2023-11-07 16:12:11,000 WARN storage.BlockManager: Persisting block rdd_160_166 to disk instead.\n",
      "2023-11-07 16:14:08,953 WARN memory.MemoryStore: Failed to reserve initial memory threshold of 1024.0 KiB for computing block rdd_160_168 in memory.\n",
      "2023-11-07 16:14:09,710 WARN memory.MemoryStore: Not enough space to cache rdd_160_168 in memory! (computed 0.0 B so far)\n",
      "2023-11-07 16:14:09,711 WARN storage.BlockManager: Persisting block rdd_160_168 to disk instead.\n",
      "2023-11-07 16:16:06,858 WARN memory.MemoryStore: Failed to reserve initial memory threshold of 1024.0 KiB for computing block rdd_160_170 in memory.\n",
      "2023-11-07 16:16:07,535 WARN memory.MemoryStore: Not enough space to cache rdd_160_170 in memory! (computed 0.0 B so far)\n",
      "2023-11-07 16:16:07,536 WARN storage.BlockManager: Persisting block rdd_160_170 to disk instead.\n",
      "2023-11-07 16:18:02,776 WARN memory.MemoryStore: Failed to reserve initial memory threshold of 1024.0 KiB for computing block rdd_160_172 in memory.\n",
      "2023-11-07 16:18:03,294 WARN memory.MemoryStore: Not enough space to cache rdd_160_172 in memory! (computed 0.0 B so far)\n",
      "2023-11-07 16:18:03,295 WARN storage.BlockManager: Persisting block rdd_160_172 to disk instead.\n",
      "2023-11-07 16:19:55,204 WARN memory.MemoryStore: Failed to reserve initial memory threshold of 1024.0 KiB for computing block rdd_160_174 in memory.\n",
      "2023-11-07 16:19:55,819 WARN memory.MemoryStore: Not enough space to cache rdd_160_174 in memory! (computed 0.0 B so far)\n",
      "2023-11-07 16:19:55,820 WARN storage.BlockManager: Persisting block rdd_160_174 to disk instead.\n",
      "2023-11-07 16:21:49,160 WARN memory.MemoryStore: Failed to reserve initial memory threshold of 1024.0 KiB for computing block rdd_160_176 in memory.\n",
      "2023-11-07 16:21:49,740 WARN memory.MemoryStore: Not enough space to cache rdd_160_176 in memory! (computed 0.0 B so far)\n",
      "2023-11-07 16:21:49,740 WARN storage.BlockManager: Persisting block rdd_160_176 to disk instead.\n",
      "2023-11-07 16:23:57,899 WARN memory.MemoryStore: Failed to reserve initial memory threshold of 1024.0 KiB for computing block rdd_160_178 in memory.\n",
      "2023-11-07 16:23:58,519 WARN memory.MemoryStore: Not enough space to cache rdd_160_178 in memory! (computed 0.0 B so far)\n",
      "2023-11-07 16:23:58,519 WARN storage.BlockManager: Persisting block rdd_160_178 to disk instead.\n",
      "2023-11-07 16:26:16,568 WARN memory.MemoryStore: Failed to reserve initial memory threshold of 1024.0 KiB for computing block rdd_160_180 in memory.\n",
      "2023-11-07 16:26:17,251 WARN memory.MemoryStore: Not enough space to cache rdd_160_180 in memory! (computed 0.0 B so far)\n",
      "2023-11-07 16:26:17,252 WARN storage.BlockManager: Persisting block rdd_160_180 to disk instead.\n",
      "2023-11-07 16:28:24,994 WARN memory.MemoryStore: Failed to reserve initial memory threshold of 1024.0 KiB for computing block rdd_160_182 in memory.\n"
     ]
    },
    {
     "name": "stderr",
     "output_type": "stream",
     "text": [
      "2023-11-07 16:28:25,656 WARN memory.MemoryStore: Not enough space to cache rdd_160_182 in memory! (computed 0.0 B so far)\n",
      "2023-11-07 16:28:25,656 WARN storage.BlockManager: Persisting block rdd_160_182 to disk instead.\n",
      "2023-11-07 16:30:30,248 WARN memory.MemoryStore: Failed to reserve initial memory threshold of 1024.0 KiB for computing block rdd_160_184 in memory.\n",
      "2023-11-07 16:30:30,910 WARN memory.MemoryStore: Not enough space to cache rdd_160_184 in memory! (computed 0.0 B so far)\n",
      "2023-11-07 16:30:30,910 WARN storage.BlockManager: Persisting block rdd_160_184 to disk instead.\n",
      "2023-11-07 16:32:43,009 WARN memory.MemoryStore: Failed to reserve initial memory threshold of 1024.0 KiB for computing block rdd_160_186 in memory.\n",
      "2023-11-07 16:32:43,697 WARN memory.MemoryStore: Not enough space to cache rdd_160_186 in memory! (computed 0.0 B so far)\n",
      "2023-11-07 16:32:43,698 WARN storage.BlockManager: Persisting block rdd_160_186 to disk instead.\n",
      "2023-11-07 16:34:55,686 WARN memory.MemoryStore: Failed to reserve initial memory threshold of 1024.0 KiB for computing block rdd_160_188 in memory.\n",
      "2023-11-07 16:34:56,908 WARN memory.MemoryStore: Not enough space to cache rdd_160_188 in memory! (computed 0.0 B so far)\n",
      "2023-11-07 16:34:56,910 WARN storage.BlockManager: Persisting block rdd_160_188 to disk instead.\n",
      "2023-11-07 16:37:10,725 WARN memory.MemoryStore: Failed to reserve initial memory threshold of 1024.0 KiB for computing block rdd_160_190 in memory.\n",
      "2023-11-07 16:37:11,282 WARN memory.MemoryStore: Not enough space to cache rdd_160_190 in memory! (computed 0.0 B so far)\n",
      "2023-11-07 16:37:11,283 WARN storage.BlockManager: Persisting block rdd_160_190 to disk instead.\n",
      "2023-11-07 16:39:13,137 WARN memory.MemoryStore: Failed to reserve initial memory threshold of 1024.0 KiB for computing block rdd_160_192 in memory.\n",
      "2023-11-07 16:39:13,820 WARN memory.MemoryStore: Not enough space to cache rdd_160_192 in memory! (computed 0.0 B so far)\n",
      "2023-11-07 16:39:13,820 WARN storage.BlockManager: Persisting block rdd_160_192 to disk instead.\n",
      "2023-11-07 16:41:26,324 WARN memory.MemoryStore: Failed to reserve initial memory threshold of 1024.0 KiB for computing block rdd_160_194 in memory.\n",
      "2023-11-07 16:41:26,976 WARN memory.MemoryStore: Not enough space to cache rdd_160_194 in memory! (computed 0.0 B so far)\n",
      "2023-11-07 16:41:26,978 WARN storage.BlockManager: Persisting block rdd_160_194 to disk instead.\n",
      "2023-11-07 16:43:35,836 WARN memory.MemoryStore: Failed to reserve initial memory threshold of 1024.0 KiB for computing block rdd_160_196 in memory.\n",
      "2023-11-07 16:43:36,807 WARN memory.MemoryStore: Not enough space to cache rdd_160_196 in memory! (computed 0.0 B so far)\n",
      "2023-11-07 16:43:36,808 WARN storage.BlockManager: Persisting block rdd_160_196 to disk instead.\n",
      "2023-11-07 16:45:48,950 WARN memory.MemoryStore: Failed to reserve initial memory threshold of 1024.0 KiB for computing block rdd_160_198 in memory.\n",
      "2023-11-07 16:45:49,650 WARN memory.MemoryStore: Not enough space to cache rdd_160_198 in memory! (computed 0.0 B so far)\n",
      "2023-11-07 16:45:49,650 WARN storage.BlockManager: Persisting block rdd_160_198 to disk instead.\n",
      "                                                                                \r"
     ]
    },
    {
     "name": "stdout",
     "output_type": "stream",
     "text": [
      "+--------+--------------------+-------------------+---------------+----------------+------------------------+-------------------------+\n",
      "|sequence|                text|              dates|language_result|sentiment_result|language_result_metadata|sentiment_result_metadata|\n",
      "+--------+--------------------+-------------------+---------------+----------------+------------------------+-------------------------+\n",
      "|      68|  not forever11 s...|2009-04-06 22:23:28|           [en]|           [pos]|    [{fr, 3.586327E-1...|     [{sentence, 0}, {...|\n",
      "|     159|oh  just got all ...|2009-04-06 22:30:50|           [en]|       [neutral]|    [{fr, 4.642191E-1...|     [{sentence, 0}, {...|\n",
      "|     493|crap i need more ...|2009-04-06 22:52:59|           [en]|           [neg]|    [{fr, 8.2225286E-...|     [{sentence, 0}, {...|\n",
      "|     598|i had a horrible ...|2009-04-06 23:01:14|           [en]|           [neg]|    [{fr, 0.0}, {lv, ...|     [{sentence, 0}, {...|\n",
      "|  800822| hells to the no ...|2009-04-06 23:03:23|           [en]|           [pos]|    [{fr, 2.2047672E-...|     [{sentence, 0}, {...|\n",
      "|  801106|  the mint ones a...|2009-04-06 23:18:16|           [en]|           [pos]|    [{fr, 3.1583664E-...|     [{sentence, 0}, {...|\n",
      "|     868| shut up you11i a...|2009-04-06 23:18:59|           [en]|           [pos]|    [{fr, 3.124465E-2...|     [{sentence, 0}, {...|\n",
      "|     918|i dont like lukew...|2009-04-06 23:23:03|           [en]|           [pos]|    [{fr, 2.2304932E-...|     [{sentence, 0}, {...|\n",
      "|  801198|got a great first...|2009-04-06 23:23:07|           [en]|           [pos]|    [{fr, 1.7630995E-...|     [{sentence, 0}, {...|\n",
      "|  801373|would love to str...|2009-04-06 23:32:47|           [en]|           [pos]|    [{fr, 5.557123E-3...|     [{sentence, 0}, {...|\n",
      "|    1082|jade is looking f...|2009-04-06 23:35:06|           [en]|           [pos]|    [{fr, 1.4414601E-...|     [{sentence, 0}, {...|\n",
      "|    1084| tweetfinder hate...|2009-04-06 23:35:10|           [en]|           [pos]|    [{fr, 4.3863304E-...|     [{sentence, 0}, {...|\n",
      "|  801638|im still at work ...|2009-04-06 23:44:03|           [en]|           [neg]|    [{fr, 3.5943157E-...|     [{sentence, 0}, {...|\n",
      "|  801822|   is at  followers |2009-04-06 23:53:53|           [en]|           [pos]|    [{fr, 2.2403418E-...|     [{sentence, 0}, {...|\n",
      "|    1639|a beautiful morni...|2009-04-07 00:16:16|           [en]|           [pos]|    [{fr, 4.9077955E-...|     [{sentence, 0}, {...|\n",
      "|    1856| how have you wat...|2009-04-07 00:32:13|           [en]|           [pos]|    [{fr, 0.0}, {lv, ...|     [{sentence, 0}, {...|\n",
      "|    1859| that does sound ...|2009-04-07 00:32:27|           [en]|           [neg]|    [{fr, 1.3815009E-...|     [{sentence, 0}, {...|\n",
      "|  802628|had such a good t...|2009-04-07 00:38:06|           [en]|           [pos]|    [{fr, 1.453308E-8...|     [{sentence, 0}, {...|\n",
      "|    1936|  im so jealousi ...|2009-04-07 00:38:17|           [en]|           [pos]|    [{fr, 1.5636869E-...|     [{sentence, 0}, {...|\n",
      "|  802837| cool apart from ...|2009-04-07 00:48:22|           [en]|           [pos]|    [{fr, 0.0}, {lv, ...|     [{sentence, 0}, {...|\n",
      "+--------+--------------------+-------------------+---------------+----------------+------------------------+-------------------------+\n",
      "only showing top 20 rows\n",
      "\n"
     ]
    }
   ],
   "source": [
    "# Apply the pipeline to the DataFrame\n",
    "pipeline_model = pipeline.fit(df)\n",
    "df = pipeline_model.transform(df)\n",
    "df.persist(StorageLevel.MEMORY_AND_DISK)\n",
    "df.count()\n",
    "# Display the results\n",
    "df.show()"
   ]
  },
  {
   "cell_type": "markdown",
   "id": "d2521db7",
   "metadata": {},
   "source": [
    "# VISUALIZE THE DATAFRAME.......SHOW()"
   ]
  },
  {
   "cell_type": "markdown",
   "id": "5e77b8c4",
   "metadata": {},
   "source": [
    "- The sentiment column with the metadata does not have the overall score of the sentiment, thus the next line of code will calculate the final score. "
   ]
  },
  {
   "cell_type": "code",
   "execution_count": 23,
   "id": "7d52eb99",
   "metadata": {},
   "outputs": [
    {
     "name": "stdout",
     "output_type": "stream",
     "text": [
      "+--------------------+----------------+-------------------+---------------+\n",
      "|                text|sentiment_result|    sentiment_score|language_result|\n",
      "+--------------------+----------------+-------------------+---------------+\n",
      "|  not forever11 s...|           [pos]|        0.982639662|           [en]|\n",
      "|oh  just got all ...|       [neutral]|0.03298530000000005|           [en]|\n",
      "|crap i need more ...|           [neg]|       -0.994555624|           [en]|\n",
      "|i had a horrible ...|           [neg]|      -0.9991101201|           [en]|\n",
      "| hells to the no ...|           [pos]|         0.47807643|           [en]|\n",
      "|  the mint ones a...|           [pos]|          0.8148422|           [en]|\n",
      "| shut up you11i a...|           [pos]|       0.9971133619|           [en]|\n",
      "|i dont like lukew...|           [pos]|   0.99999982835387|           [en]|\n",
      "|got a great first...|           [pos]| 0.9999966465818001|           [en]|\n",
      "|would love to str...|           [pos]|    0.9999845035235|           [en]|\n",
      "|jade is looking f...|           [pos]|     0.999978249646|           [en]|\n",
      "| tweetfinder hate...|           [pos]|0.43312576999999997|           [en]|\n",
      "|im still at work ...|           [neg]|       -0.977214159|           [en]|\n",
      "|   is at  followers |           [pos]|   0.99999947525523|           [en]|\n",
      "|a beautiful morni...|           [pos]|     0.999974278055|           [en]|\n",
      "| how have you wat...|           [pos]| 0.9998157614100001|           [en]|\n",
      "| that does sound ...|           [neg]|-0.9953832543000001|           [en]|\n",
      "|had such a good t...|           [pos]|         0.92029058|           [en]|\n",
      "|  im so jealousi ...|           [pos]|       0.9969921148|           [en]|\n",
      "| cool apart from ...|           [pos]|        0.975036038|           [en]|\n",
      "+--------------------+----------------+-------------------+---------------+\n",
      "only showing top 20 rows\n",
      "\n"
     ]
    }
   ],
   "source": [
    "# Extract positive and negative scores\n",
    "df = df.withColumn(\"positive_score\", expr(\"filter(sentiment_result_metadata, x -> x._1 == 'pos')[0]._2\"))\n",
    "df = df.withColumn(\"negative_score\", expr(\"filter(sentiment_result_metadata, x -> x._1 == 'neg')[0]._2\"))\n",
    "\n",
    "# Calculate sentiment score by subtracting the negative score from the positive score\n",
    "df = df.withColumn(\"sentiment_score\", col(\"positive_score\") - col(\"negative_score\"))\n",
    "\n",
    "# Show the resulting DataFrame with sentiment score\n",
    "df.select(\"text\", \"sentiment_result\", \"sentiment_score\", \"language_result\").show()"
   ]
  },
  {
   "cell_type": "code",
   "execution_count": 25,
   "id": "a23240f5",
   "metadata": {},
   "outputs": [
    {
     "name": "stdout",
     "output_type": "stream",
     "text": [
      "root\n",
      " |-- sequence: integer (nullable = true)\n",
      " |-- text: string (nullable = true)\n",
      " |-- dates: string (nullable = true)\n",
      " |-- language_result: array (nullable = true)\n",
      " |    |-- element: string (containsNull = true)\n",
      " |-- sentiment_result: array (nullable = true)\n",
      " |    |-- element: string (containsNull = true)\n",
      " |-- language_result_metadata: array (nullable = true)\n",
      " |    |-- element: struct (containsNull = true)\n",
      " |    |    |-- _1: string (nullable = true)\n",
      " |    |    |-- _2: string (nullable = true)\n",
      " |-- sentiment_result_metadata: array (nullable = true)\n",
      " |    |-- element: struct (containsNull = true)\n",
      " |    |    |-- _1: string (nullable = true)\n",
      " |    |    |-- _2: string (nullable = true)\n",
      " |-- positive_score: string (nullable = true)\n",
      " |-- negative_score: string (nullable = true)\n",
      " |-- sentiment_score: double (nullable = true)\n",
      "\n"
     ]
    }
   ],
   "source": [
    "df.printSchema()"
   ]
  },
  {
   "cell_type": "code",
   "execution_count": 26,
   "id": "c0313670",
   "metadata": {
    "scrolled": true
   },
   "outputs": [
    {
     "name": "stdout",
     "output_type": "stream",
     "text": [
      "+--------+--------------------+-------------------+---------------+----------------+-------------------+\n",
      "|sequence|                text|              dates|language_result|sentiment_result|    sentiment_score|\n",
      "+--------+--------------------+-------------------+---------------+----------------+-------------------+\n",
      "|      68|  not forever11 s...|2009-04-06 22:23:28|           [en]|           [pos]|        0.982639662|\n",
      "|     159|oh  just got all ...|2009-04-06 22:30:50|           [en]|       [neutral]|0.03298530000000005|\n",
      "|     493|crap i need more ...|2009-04-06 22:52:59|           [en]|           [neg]|       -0.994555624|\n",
      "|     598|i had a horrible ...|2009-04-06 23:01:14|           [en]|           [neg]|      -0.9991101201|\n",
      "|  800822| hells to the no ...|2009-04-06 23:03:23|           [en]|           [pos]|         0.47807643|\n",
      "|  801106|  the mint ones a...|2009-04-06 23:18:16|           [en]|           [pos]|          0.8148422|\n",
      "|     868| shut up you11i a...|2009-04-06 23:18:59|           [en]|           [pos]|       0.9971133619|\n",
      "|     918|i dont like lukew...|2009-04-06 23:23:03|           [en]|           [pos]|   0.99999982835387|\n",
      "|  801198|got a great first...|2009-04-06 23:23:07|           [en]|           [pos]| 0.9999966465818001|\n",
      "|  801373|would love to str...|2009-04-06 23:32:47|           [en]|           [pos]|    0.9999845035235|\n",
      "|    1082|jade is looking f...|2009-04-06 23:35:06|           [en]|           [pos]|     0.999978249646|\n",
      "|    1084| tweetfinder hate...|2009-04-06 23:35:10|           [en]|           [pos]|0.43312576999999997|\n",
      "|  801638|im still at work ...|2009-04-06 23:44:03|           [en]|           [neg]|       -0.977214159|\n",
      "|  801822|   is at  followers |2009-04-06 23:53:53|           [en]|           [pos]|   0.99999947525523|\n",
      "|    1639|a beautiful morni...|2009-04-07 00:16:16|           [en]|           [pos]|     0.999974278055|\n",
      "|    1856| how have you wat...|2009-04-07 00:32:13|           [en]|           [pos]| 0.9998157614100001|\n",
      "|    1859| that does sound ...|2009-04-07 00:32:27|           [en]|           [neg]|-0.9953832543000001|\n",
      "|  802628|had such a good t...|2009-04-07 00:38:06|           [en]|           [pos]|         0.92029058|\n",
      "|    1936|  im so jealousi ...|2009-04-07 00:38:17|           [en]|           [pos]|       0.9969921148|\n",
      "|  802837| cool apart from ...|2009-04-07 00:48:22|           [en]|           [pos]|        0.975036038|\n",
      "+--------+--------------------+-------------------+---------------+----------------+-------------------+\n",
      "only showing top 20 rows\n",
      "\n"
     ]
    }
   ],
   "source": [
    "df = df.drop(\"language_result_metadata\", \"sentiment_result_metadata\", \"positive_score\", \"negative_score\")\n",
    "df.show()"
   ]
  },
  {
   "cell_type": "code",
   "execution_count": 29,
   "id": "3abad902",
   "metadata": {
    "scrolled": true
   },
   "outputs": [
    {
     "name": "stdout",
     "output_type": "stream",
     "text": [
      "+--------+--------------------+-------------------+-------------------+--------+---------+\n",
      "|sequence|                text|              dates|    sentiment_score|language|sentiment|\n",
      "+--------+--------------------+-------------------+-------------------+--------+---------+\n",
      "|      68|  not forever11 s...|2009-04-06 22:23:28|        0.982639662|      en|      pos|\n",
      "|     159|oh  just got all ...|2009-04-06 22:30:50|0.03298530000000005|      en|  neutral|\n",
      "|     493|crap i need more ...|2009-04-06 22:52:59|       -0.994555624|      en|      neg|\n",
      "|     598|i had a horrible ...|2009-04-06 23:01:14|      -0.9991101201|      en|      neg|\n",
      "|  800822| hells to the no ...|2009-04-06 23:03:23|         0.47807643|      en|      pos|\n",
      "|  801106|  the mint ones a...|2009-04-06 23:18:16|          0.8148422|      en|      pos|\n",
      "|     868| shut up you11i a...|2009-04-06 23:18:59|       0.9971133619|      en|      pos|\n",
      "|     918|i dont like lukew...|2009-04-06 23:23:03|   0.99999982835387|      en|      pos|\n",
      "|  801198|got a great first...|2009-04-06 23:23:07| 0.9999966465818001|      en|      pos|\n",
      "|  801373|would love to str...|2009-04-06 23:32:47|    0.9999845035235|      en|      pos|\n",
      "|    1082|jade is looking f...|2009-04-06 23:35:06|     0.999978249646|      en|      pos|\n",
      "|    1084| tweetfinder hate...|2009-04-06 23:35:10|0.43312576999999997|      en|      pos|\n",
      "|  801638|im still at work ...|2009-04-06 23:44:03|       -0.977214159|      en|      neg|\n",
      "|  801822|   is at  followers |2009-04-06 23:53:53|   0.99999947525523|      en|      pos|\n",
      "|    1639|a beautiful morni...|2009-04-07 00:16:16|     0.999974278055|      en|      pos|\n",
      "|    1856| how have you wat...|2009-04-07 00:32:13| 0.9998157614100001|      en|      pos|\n",
      "|    1859| that does sound ...|2009-04-07 00:32:27|-0.9953832543000001|      en|      neg|\n",
      "|  802628|had such a good t...|2009-04-07 00:38:06|         0.92029058|      en|      pos|\n",
      "|    1936|  im so jealousi ...|2009-04-07 00:38:17|       0.9969921148|      en|      pos|\n",
      "|  802837| cool apart from ...|2009-04-07 00:48:22|        0.975036038|      en|      pos|\n",
      "+--------+--------------------+-------------------+-------------------+--------+---------+\n",
      "only showing top 20 rows\n",
      "\n"
     ]
    }
   ],
   "source": [
    "df = df.drop(\"language_result\", \"sentiment_result\")\n",
    "df.show()"
   ]
  },
  {
   "cell_type": "markdown",
   "id": "9acbdc80",
   "metadata": {},
   "source": [
    "# APPLY LANGUAGE DETECTOR"
   ]
  },
  {
   "cell_type": "markdown",
   "id": "2ade3ae5",
   "metadata": {},
   "source": [
    "- The language detector was included in the pipeline, however the option used did not yield good performance regarding the results. Thus, the language detector will be called in the next step."
   ]
  },
  {
   "cell_type": "markdown",
   "id": "c15e7d6d",
   "metadata": {},
   "source": [
    "# EDA ON THE TEXT COLUMN\n",
    "token counts \n",
    "word frequency\n",
    "word cloud\n",
    "etc..."
   ]
  },
  {
   "cell_type": "code",
   "execution_count": null,
   "id": "18497203",
   "metadata": {},
   "outputs": [],
   "source": [
    "df = df.withColumn(\"daily_records\", to_date(col(\"dates\"), 'yyyy-MM-dd'))\n",
    "\n",
    "# Convert the dates column from string to timestamp\n",
    "df = df.withColumn(\"dates\", to_timestamp(col(\"dates\"), 'yyyy-MM-dd HH:mm:ss'))\n",
    "\n",
    "df.show()"
   ]
  },
  {
   "cell_type": "code",
   "execution_count": null,
   "id": "c64e2b7b",
   "metadata": {},
   "outputs": [],
   "source": [
    "# Temporal Distribution: Count tweets per day\n",
    "tweets_per_day = df.groupby('daily_records').count()\n",
    "tweets_per_day.show()"
   ]
  },
  {
   "cell_type": "code",
   "execution_count": null,
   "id": "2a905ae6",
   "metadata": {},
   "outputs": [],
   "source": [
    "# Number of rows\n",
    "num_rows = tweets_per_day.count()\n",
    "\n",
    "# Number of columns\n",
    "num_columns = len(tweets_per_day.columns)\n",
    "\n",
    "# Print out the shape\n",
    "print(f\"The DataFrame shape is: ({num_rows}, {num_columns})\")"
   ]
  },
  {
   "cell_type": "code",
   "execution_count": null,
   "id": "d448b721",
   "metadata": {},
   "outputs": [],
   "source": [
    "import pandas as pd\n",
    "import matplotlib.pyplot as plt\n",
    "import matplotlib.dates as mdates\n",
    "\n",
    "# Convert the Spark DataFrame to a Pandas DataFrame\n",
    "# The dataframe with the total number of tweets per day is not large so it is feasible to transform it to Pandas.\n",
    "pandas_df = tweets_per_day.toPandas()\n",
    "\n",
    "plt.figure(figsize=(15, 8))\n",
    "\n",
    "# Plot the bars for days with data.\n",
    "plt.bar(pandas_df['daily_records'], pandas_df['count'], width=0.8)\n",
    "\n",
    "# Set the x-axis to cover the full date range, including days without tweets.\n",
    "start_date = pandas_df['daily_records'].min()\n",
    "end_date = pandas_df['daily_records'].max()\n",
    "plt.xlim(start_date, end_date)\n",
    "\n",
    "# Rotate the x-axis labels for readability.\n",
    "plt.xticks(rotation=90)\n",
    "\n",
    "# Set the x-axis major locator and formatter.\n",
    "plt.gca().xaxis.set_major_locator(mdates.DayLocator(interval=1))\n",
    "plt.gca().xaxis.set_major_formatter(mdates.DateFormatter('%Y-%m-%d'))\n",
    "\n",
    "# Set title and labels.\n",
    "plt.title('Number of Tweets per Day')\n",
    "plt.xlabel('Date')\n",
    "plt.ylabel('Number of Tweets')\n",
    "\n",
    "# Ensure everything fits without overlapping.\n",
    "plt.tight_layout()\n",
    "\n",
    "# Show plot with grid.\n",
    "plt.grid(True)\n",
    "plt.show()"
   ]
  },
  {
   "cell_type": "code",
   "execution_count": null,
   "id": "71ca4b2c",
   "metadata": {},
   "outputs": [],
   "source": []
  },
  {
   "cell_type": "code",
   "execution_count": null,
   "id": "fd5d179e",
   "metadata": {},
   "outputs": [],
   "source": []
  },
  {
   "cell_type": "code",
   "execution_count": null,
   "id": "63cda2fc",
   "metadata": {},
   "outputs": [],
   "source": []
  },
  {
   "cell_type": "markdown",
   "id": "1287a7b0",
   "metadata": {},
   "source": [
    "# EDA FOR SENTIMENT FORECASTING - SENTIMENT POLATIRY AND SCORE"
   ]
  },
  {
   "cell_type": "code",
   "execution_count": 61,
   "id": "db2f6006",
   "metadata": {
    "scrolled": true
   },
   "outputs": [
    {
     "name": "stderr",
     "output_type": "stream",
     "text": [
      "[Stage 182:====================================================>(199 + 1) / 200]\r"
     ]
    },
    {
     "name": "stdout",
     "output_type": "stream",
     "text": [
      "+---------+------+------------------+\n",
      "|sentiment| count| frequency_percent|\n",
      "+---------+------+------------------+\n",
      "|      pos|851123| 53.35853130395422|\n",
      "|      neg|702885| 44.06520711528166|\n",
      "|  neutral| 41094|2.5762615807641143|\n",
      "+---------+------+------------------+\n",
      "\n"
     ]
    },
    {
     "name": "stderr",
     "output_type": "stream",
     "text": [
      "\r",
      "                                                                                \r"
     ]
    }
   ],
   "source": [
    "# Calculate the total number of tweets\n",
    "total_count = df.count()\n",
    "\n",
    "# Group by the 'sentiment' column and count the occurrences\n",
    "frequency_df = df.groupBy(\"sentiment\").count()\n",
    "\n",
    "# Calculate the frequency in percentage\n",
    "frequency_percent_df = frequency_df.withColumn(\n",
    "    \"frequency_percent\", \n",
    "    (col(\"count\") / lit(total_count) * 100)\n",
    ")\n",
    "\n",
    "# Show the result\n",
    "frequency_percent_df.show()"
   ]
  },
  {
   "cell_type": "code",
   "execution_count": 34,
   "id": "91a50a97",
   "metadata": {
    "scrolled": true
   },
   "outputs": [
    {
     "name": "stderr",
     "output_type": "stream",
     "text": [
      "[Stage 105:====================================================>(198 + 2) / 200]\r"
     ]
    },
    {
     "name": "stdout",
     "output_type": "stream",
     "text": [
      "+-------+-------------------+\n",
      "|summary|    sentiment_score|\n",
      "+-------+-------------------+\n",
      "|  count|            1595102|\n",
      "|   mean|0.09433735979403485|\n",
      "| stddev|  0.929044807975337|\n",
      "|    min|               -1.0|\n",
      "|    max|                1.0|\n",
      "+-------+-------------------+\n",
      "\n"
     ]
    },
    {
     "name": "stderr",
     "output_type": "stream",
     "text": [
      "\r",
      "                                                                                \r"
     ]
    }
   ],
   "source": [
    "df.describe(\"sentiment_score\").show()"
   ]
  },
  {
   "cell_type": "code",
   "execution_count": 35,
   "id": "c1979588",
   "metadata": {},
   "outputs": [
    {
     "name": "stdout",
     "output_type": "stream",
     "text": [
      "+--------+--------------------+-------------------+-------------------+--------+---------+-------------+\n",
      "|sequence|                text|              dates|    sentiment_score|language|sentiment|daily_records|\n",
      "+--------+--------------------+-------------------+-------------------+--------+---------+-------------+\n",
      "|      68|  not forever11 s...|2009-04-06 22:23:28|        0.982639662|      en|      pos|   2009-04-06|\n",
      "|     159|oh  just got all ...|2009-04-06 22:30:50|0.03298530000000005|      en|  neutral|   2009-04-06|\n",
      "|     493|crap i need more ...|2009-04-06 22:52:59|       -0.994555624|      en|      neg|   2009-04-06|\n",
      "|     598|i had a horrible ...|2009-04-06 23:01:14|      -0.9991101201|      en|      neg|   2009-04-06|\n",
      "|  800822| hells to the no ...|2009-04-06 23:03:23|         0.47807643|      en|      pos|   2009-04-06|\n",
      "|  801106|  the mint ones a...|2009-04-06 23:18:16|          0.8148422|      en|      pos|   2009-04-06|\n",
      "|     868| shut up you11i a...|2009-04-06 23:18:59|       0.9971133619|      en|      pos|   2009-04-06|\n",
      "|     918|i dont like lukew...|2009-04-06 23:23:03|   0.99999982835387|      en|      pos|   2009-04-06|\n",
      "|  801198|got a great first...|2009-04-06 23:23:07| 0.9999966465818001|      en|      pos|   2009-04-06|\n",
      "|  801373|would love to str...|2009-04-06 23:32:47|    0.9999845035235|      en|      pos|   2009-04-06|\n",
      "|    1082|jade is looking f...|2009-04-06 23:35:06|     0.999978249646|      en|      pos|   2009-04-06|\n",
      "|    1084| tweetfinder hate...|2009-04-06 23:35:10|0.43312576999999997|      en|      pos|   2009-04-06|\n",
      "|  801638|im still at work ...|2009-04-06 23:44:03|       -0.977214159|      en|      neg|   2009-04-06|\n",
      "|  801822|   is at  followers |2009-04-06 23:53:53|   0.99999947525523|      en|      pos|   2009-04-06|\n",
      "|    1639|a beautiful morni...|2009-04-07 00:16:16|     0.999974278055|      en|      pos|   2009-04-07|\n",
      "|    1856| how have you wat...|2009-04-07 00:32:13| 0.9998157614100001|      en|      pos|   2009-04-07|\n",
      "|    1859| that does sound ...|2009-04-07 00:32:27|-0.9953832543000001|      en|      neg|   2009-04-07|\n",
      "|  802628|had such a good t...|2009-04-07 00:38:06|         0.92029058|      en|      pos|   2009-04-07|\n",
      "|    1936|  im so jealousi ...|2009-04-07 00:38:17|       0.9969921148|      en|      pos|   2009-04-07|\n",
      "|  802837| cool apart from ...|2009-04-07 00:48:22|        0.975036038|      en|      pos|   2009-04-07|\n",
      "+--------+--------------------+-------------------+-------------------+--------+---------+-------------+\n",
      "only showing top 20 rows\n",
      "\n"
     ]
    }
   ],
   "source": [
    "df = df.withColumn(\"daily_records\", to_date(col(\"dates\"), 'yyyy-MM-dd'))\n",
    "\n",
    "# Convert the dates column from string to timestamp\n",
    "df = df.withColumn(\"dates\", to_timestamp(col(\"dates\"), 'yyyy-MM-dd HH:mm:ss'))\n",
    "\n",
    "df.show()"
   ]
  },
  {
   "cell_type": "code",
   "execution_count": 65,
   "id": "fbda3485",
   "metadata": {},
   "outputs": [
    {
     "name": "stderr",
     "output_type": "stream",
     "text": [
      "[Stage 187:====================================================>(199 + 1) / 200]\r"
     ]
    },
    {
     "name": "stdout",
     "output_type": "stream",
     "text": [
      "+-------------+------+\n",
      "|daily_records| count|\n",
      "+-------------+------+\n",
      "|   2009-05-13|  4055|\n",
      "|   2009-06-25| 19663|\n",
      "|   2009-05-01|  7691|\n",
      "|   2009-06-15|109461|\n",
      "|   2009-06-07| 96011|\n",
      "|   2009-05-03| 35214|\n",
      "|   2009-06-24|  6285|\n",
      "|   2009-05-11|  4178|\n",
      "|   2009-05-27|   837|\n",
      "|   2009-04-17|  3076|\n",
      "|   2009-06-20| 45282|\n",
      "|   2009-04-20| 18405|\n",
      "|   2009-06-22| 11986|\n",
      "|   2009-04-21|  8572|\n",
      "|   2009-05-23|   169|\n",
      "|   2009-05-25|   169|\n",
      "|   2009-06-01|109860|\n",
      "|   2009-04-19| 27394|\n",
      "|   2009-05-18| 36368|\n",
      "|   2009-06-21| 16327|\n",
      "+-------------+------+\n",
      "only showing top 20 rows\n",
      "\n"
     ]
    },
    {
     "name": "stderr",
     "output_type": "stream",
     "text": [
      "\r",
      "                                                                                \r"
     ]
    }
   ],
   "source": [
    "# Temporal Distribution: Count tweets per day\n",
    "tweets_per_day = df.groupby('daily_records').count()\n",
    "tweets_per_day.show()"
   ]
  },
  {
   "cell_type": "code",
   "execution_count": 66,
   "id": "9b0d8ace",
   "metadata": {
    "scrolled": true
   },
   "outputs": [
    {
     "name": "stderr",
     "output_type": "stream",
     "text": [
      "[Stage 192:====================================================>(197 + 2) / 200]\r"
     ]
    },
    {
     "name": "stdout",
     "output_type": "stream",
     "text": [
      "The DataFrame shape is: (48, 2)\n"
     ]
    },
    {
     "name": "stderr",
     "output_type": "stream",
     "text": [
      "\r",
      "                                                                                \r"
     ]
    }
   ],
   "source": [
    "# Number of rows\n",
    "num_rows = tweets_per_day.count()\n",
    "\n",
    "# Number of columns\n",
    "num_columns = len(tweets_per_day.columns)\n",
    "\n",
    "# Print out the shape\n",
    "print(f\"The DataFrame shape is: ({num_rows}, {num_columns})\")"
   ]
  },
  {
   "cell_type": "code",
   "execution_count": 79,
   "id": "d4eaf5d3",
   "metadata": {
    "scrolled": false
   },
   "outputs": [
    {
     "data": {
      "image/png": "[encoded data removed]",
      "text/plain": [
       "<Figure size 1500x800 with 1 Axes>"
      ]
     },
     "metadata": {},
     "output_type": "display_data"
    }
   ],
   "source": [
    "import pandas as pd\n",
    "import matplotlib.pyplot as plt\n",
    "import matplotlib.dates as mdates\n",
    "\n",
    "# Convert the Spark DataFrame to a Pandas DataFrame\n",
    "# The dataframe with the total number of tweets per day is not large so it is feasible to transform it to Pandas.\n",
    "pandas_df = tweets_per_day.toPandas()\n",
    "\n",
    "plt.figure(figsize=(15, 8))\n",
    "\n",
    "# Plot the bars for days with data.\n",
    "plt.bar(pandas_df['daily_records'], pandas_df['count'], width=0.8)\n",
    "\n",
    "# Set the x-axis to cover the full date range, including days without tweets.\n",
    "start_date = pandas_df['daily_records'].min()\n",
    "end_date = pandas_df['daily_records'].max()\n",
    "plt.xlim(start_date, end_date)\n",
    "\n",
    "# Rotate the x-axis labels for readability.\n",
    "plt.xticks(rotation=90)\n",
    "\n",
    "# Set the x-axis major locator and formatter.\n",
    "plt.gca().xaxis.set_major_locator(mdates.DayLocator(interval=1))\n",
    "plt.gca().xaxis.set_major_formatter(mdates.DateFormatter('%Y-%m-%d'))\n",
    "\n",
    "# Set title and labels.\n",
    "plt.title('Number of Tweets per Day')\n",
    "plt.xlabel('Date')\n",
    "plt.ylabel('Number of Tweets')\n",
    "\n",
    "# Ensure everything fits without overlapping.\n",
    "plt.tight_layout()\n",
    "\n",
    "# Show plot with grid.\n",
    "plt.grid(True)\n",
    "plt.show()"
   ]
  },
  {
   "cell_type": "code",
   "execution_count": 81,
   "id": "7edd6c8f",
   "metadata": {},
   "outputs": [
    {
     "name": "stdout",
     "output_type": "stream",
     "text": [
      "Number of days without tweets: 33\n",
      "Days without tweets:\n",
      "2009-04-08\n",
      "2009-04-09\n",
      "2009-04-10\n",
      "2009-04-11\n",
      "2009-04-12\n",
      "2009-04-13\n",
      "2009-04-14\n",
      "2009-04-15\n",
      "2009-04-16\n",
      "2009-04-22\n",
      "2009-04-23\n",
      "2009-04-24\n",
      "2009-04-25\n",
      "2009-04-26\n",
      "2009-04-27\n",
      "2009-04-28\n",
      "2009-04-29\n",
      "2009-04-30\n",
      "2009-05-05\n",
      "2009-05-06\n",
      "2009-05-07\n",
      "2009-05-08\n",
      "2009-05-12\n",
      "2009-05-15\n",
      "2009-05-19\n",
      "2009-05-20\n",
      "2009-05-24\n",
      "2009-06-08\n",
      "2009-06-09\n",
      "2009-06-10\n",
      "2009-06-11\n",
      "2009-06-12\n",
      "2009-06-13\n"
     ]
    }
   ],
   "source": [
    "# Create a date range that spans all days from the earliest to the latest date in pandas_df\n",
    "full_date_range = pd.date_range(start=pandas_df['daily_records'].min(), end=pandas_df['daily_records'].max())\n",
    "\n",
    "# Convert the 'daily_records' in pandas_df to a set for faster lookup\n",
    "recorded_dates = set(pandas_df['daily_records'])\n",
    "\n",
    "# Find dates that are in the full range but not in the recorded dates\n",
    "missing_dates = full_date_range.difference(recorded_dates)\n",
    "\n",
    "# Output the missing dates\n",
    "num_missing_dates = len(missing_dates)\n",
    "missing_dates = sorted(missing_dates)  # Sort the dates for clarity\n",
    "\n",
    "print(f\"Number of days without tweets: {num_missing_dates}\")\n",
    "print(\"Days without tweets:\")\n",
    "for day in missing_dates:\n",
    "    print(day.strftime('%Y-%m-%d'))  # Format the date as a string for display\n"
   ]
  },
  {
   "cell_type": "code",
   "execution_count": 36,
   "id": "f5b96075",
   "metadata": {
    "scrolled": true
   },
   "outputs": [
    {
     "name": "stderr",
     "output_type": "stream",
     "text": [
      "[Stage 112:====================================================>(197 + 2) / 200]\r"
     ]
    },
    {
     "name": "stdout",
     "output_type": "stream",
     "text": [
      "+-------------+--------------------+\n",
      "|daily_records|   average_sentiment|\n",
      "+-------------+--------------------+\n",
      "|   2009-05-13| 0.11084810334025949|\n",
      "|   2009-06-25|-0.11917005775121654|\n",
      "|   2009-05-01|  0.1258235851055851|\n",
      "|   2009-06-15| 0.11277365334443072|\n",
      "|   2009-06-07| 0.14325790524808388|\n",
      "|   2009-05-03|  0.1238384263807547|\n",
      "|   2009-06-24|-0.09173642722901808|\n",
      "|   2009-05-11| 0.09481371555010619|\n",
      "|   2009-05-27|  0.0721874748321542|\n",
      "|   2009-04-17| 0.15735256667617648|\n",
      "|   2009-06-20|-0.09373040551262102|\n",
      "|   2009-04-20| 0.11974381900697725|\n",
      "|   2009-06-22| -0.0823464303807123|\n",
      "|   2009-04-21| 0.11612730999056578|\n",
      "|   2009-05-23| 0.08814905475225927|\n",
      "|   2009-05-25| 0.23953315052507582|\n",
      "|   2009-06-01| 0.11891642059833077|\n",
      "|   2009-04-19| 0.13980354378489346|\n",
      "|   2009-05-18|  0.1252474669164208|\n",
      "|   2009-06-21|-0.07600716433777442|\n",
      "+-------------+--------------------+\n",
      "only showing top 20 rows\n",
      "\n"
     ]
    },
    {
     "name": "stderr",
     "output_type": "stream",
     "text": [
      "\r",
      "                                                                                \r"
     ]
    }
   ],
   "source": [
    "# Group by 'daily_records' and calculate the average sentiment score\n",
    "daily_sentiment_avg = df.groupBy('daily_records').agg(F.avg('sentiment_score').alias('average_sentiment'))\n",
    "\n",
    "# You can also calculate the sum if that's more relevant for your analysis\n",
    "daily_sentiment_sum = df.groupBy('daily_records').agg(F.sum('sentiment_score').alias('total_sentiment'))\n",
    "\n",
    "# Show the result to verify\n",
    "daily_sentiment_avg.show()\n"
   ]
  },
  {
   "cell_type": "code",
   "execution_count": null,
   "id": "ab0e80fb",
   "metadata": {},
   "outputs": [],
   "source": []
  },
  {
   "cell_type": "code",
   "execution_count": null,
   "id": "a6d63f90",
   "metadata": {},
   "outputs": [],
   "source": []
  },
  {
   "cell_type": "code",
   "execution_count": null,
   "id": "abffeef3",
   "metadata": {},
   "outputs": [],
   "source": []
  },
  {
   "cell_type": "code",
   "execution_count": null,
   "id": "cecf68f5",
   "metadata": {},
   "outputs": [],
   "source": []
  },
  {
   "cell_type": "code",
   "execution_count": null,
   "id": "e9b0f346",
   "metadata": {},
   "outputs": [],
   "source": []
  },
  {
   "cell_type": "code",
   "execution_count": null,
   "id": "ba7fa04c",
   "metadata": {},
   "outputs": [],
   "source": []
  },
  {
   "cell_type": "code",
   "execution_count": null,
   "id": "9d2088b4",
   "metadata": {},
   "outputs": [],
   "source": []
  },
  {
   "cell_type": "code",
   "execution_count": 82,
   "id": "d4cf8d57",
   "metadata": {
    "scrolled": true
   },
   "outputs": [
    {
     "data": {
      "text/plain": [
       "DataFrame[sequence: int, text: string, dates: timestamp, sentiment_score: double, language: string, sentiment: string, daily_records: date]"
      ]
     },
     "execution_count": 82,
     "metadata": {},
     "output_type": "execute_result"
    }
   ],
   "source": [
    "df.unpersist()"
   ]
  },
  {
   "cell_type": "code",
   "execution_count": null,
   "id": "31b8f90b",
   "metadata": {},
   "outputs": [],
   "source": [
    "# Write the DataFrame to a CSV file in the local file system of the Spark driver node\n",
    "df.write.csv('file:///home/hduser/Desktop/CA2/pro_tweets.csv', header=True)"
   ]
  },
  {
   "cell_type": "code",
   "execution_count": null,
   "id": "133c50f8",
   "metadata": {},
   "outputs": [],
   "source": []
  }
 ],
 "metadata": {
  "kernelspec": {
   "display_name": "Python 3 (ipykernel)",
   "language": "python",
   "name": "python3"
  },
  "language_info": {
   "codemirror_mode": {
    "name": "ipython",
    "version": 3
   },
   "file_extension": ".py",
   "mimetype": "text/x-python",
   "name": "python",
   "nbconvert_exporter": "python",
   "pygments_lexer": "ipython3",
   "version": "3.11.4"
  }
 },
 "nbformat": 4,
 "nbformat_minor": 5
}
